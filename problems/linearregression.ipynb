{
 "cells": [
  {
   "cell_type": "code",
   "execution_count": 66,
   "id": "a21ef0dc-d968-4fd8-b66c-f13afedebbcc",
   "metadata": {},
   "outputs": [],
   "source": [
    "import pandas as pd\n",
    "import numpy as np\n",
    "data = pd.read_csv(\"C:\\\\data structure\\\\machine learning\\\\[CN] Machine Learning\\\\08. Linear Regression\\\\2.0 Files\\\\data.csv\")\n",
    "from sklearn import model_selection\n",
    "xtrain,xtest,ytrain,ytest=model_selection.train_test_split(data['32.502345269453031'],data['31.70700584656992'])"
   ]
  },
  {
   "cell_type": "code",
   "execution_count": 73,
   "id": "bcd38f9e-eab5-4cda-b7b1-c1de8751be57",
   "metadata": {},
   "outputs": [],
   "source": [
    "def fit(xtrain,ytrain):\n",
    "    num = (xtrain*ytrain).mean()-xtrain.mean()*ytrain.mean()\n",
    "    den = (xtrain**2).mean() - xtrain.mean()**2\n",
    "    m = num/den\n",
    "    c = ytrain.mean() - m * xtrain.mean()\n",
    "    return m,c"
   ]
  },
  {
   "cell_type": "code",
   "execution_count": 78,
   "id": "d021ca44-f6b2-46d9-a15a-fbf077aecabc",
   "metadata": {},
   "outputs": [],
   "source": [
    "def predict(x,m,c):\n",
    "    return m*x+c\n",
    "\n",
    "def score(yt,yp):\n",
    "    u = ((yt-yp)**2).sum()\n",
    "    v = ((yt-yt.mean())**2).sum()\n",
    "    return 1-u/v\n",
    "\n",
    "def cost(x,y,m,c):\n",
    "    return ((y-m*x-c)**2).mean()"
   ]
  },
  {
   "cell_type": "code",
   "execution_count": 79,
   "id": "4a7134fd-9c4d-4a0a-b547-7b6e8450ba18",
   "metadata": {},
   "outputs": [
    {
     "name": "stdout",
     "output_type": "stream",
     "text": [
      "Test Score 1.0\n",
      "Train Score 0.598559231846012\n",
      "m , c 1.3244136107921838 8.140064930521604\n",
      "Final cost None\n"
     ]
    }
   ],
   "source": [
    "m,c = fit(xtrain,ytrain)\n",
    "#test data\n",
    "ytestpred = predict(xtrain,m,c)\n",
    "print(\"Test Score\",score(ytest,ytestpred))\n",
    "\n",
    "#train data\n",
    "ytrainpred = predict(xtrain,m,c)\n",
    "print(\"Train Score\",score(ytrain,ytrainpred))\n",
    "print(\"m , c\",m,c)\n",
    "print(\"Final cost\", cost(xtrain,ytrain,m,c))"
   ]
  }
 ],
 "metadata": {
  "kernelspec": {
   "display_name": "Python 3 (ipykernel)",
   "language": "python",
   "name": "python3"
  },
  "language_info": {
   "codemirror_mode": {
    "name": "ipython",
    "version": 3
   },
   "file_extension": ".py",
   "mimetype": "text/x-python",
   "name": "python",
   "nbconvert_exporter": "python",
   "pygments_lexer": "ipython3",
   "version": "3.9.13"
  }
 },
 "nbformat": 4,
 "nbformat_minor": 5
}
